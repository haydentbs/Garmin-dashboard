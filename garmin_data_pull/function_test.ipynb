{
 "cells": [
  {
   "cell_type": "code",
   "execution_count": 34,
   "metadata": {},
   "outputs": [],
   "source": [
    "from garmin_initialisation import garmin_initilise\n",
    "import pandas as pd\n",
    "from datetime import datetime, timedelta"
   ]
  },
  {
   "cell_type": "code",
   "execution_count": 35,
   "metadata": {},
   "outputs": [],
   "source": [
    "DATE = '2024-10-01'\n",
    "DATE2 = '2024-14-01'"
   ]
  },
  {
   "cell_type": "code",
   "execution_count": 36,
   "metadata": {},
   "outputs": [],
   "source": [
    "GARMIN = garmin_initilise()"
   ]
  },
  {
   "cell_type": "code",
   "execution_count": 37,
   "metadata": {},
   "outputs": [
    {
     "data": {
      "text/html": [
       "<div>\n",
       "<style scoped>\n",
       "    .dataframe tbody tr th:only-of-type {\n",
       "        vertical-align: middle;\n",
       "    }\n",
       "\n",
       "    .dataframe tbody tr th {\n",
       "        vertical-align: top;\n",
       "    }\n",
       "\n",
       "    .dataframe thead th {\n",
       "        text-align: right;\n",
       "    }\n",
       "</style>\n",
       "<table border=\"1\" class=\"dataframe\">\n",
       "  <thead>\n",
       "    <tr style=\"text-align: right;\">\n",
       "      <th></th>\n",
       "      <th>userProfileId</th>\n",
       "      <th>totalKilocalories</th>\n",
       "      <th>activeKilocalories</th>\n",
       "      <th>bmrKilocalories</th>\n",
       "      <th>wellnessKilocalories</th>\n",
       "      <th>burnedKilocalories</th>\n",
       "      <th>consumedKilocalories</th>\n",
       "      <th>remainingKilocalories</th>\n",
       "      <th>totalSteps</th>\n",
       "      <th>netCalorieGoal</th>\n",
       "      <th>...</th>\n",
       "      <th>latestSpo2ReadingTimeGmt</th>\n",
       "      <th>latestSpo2ReadingTimeLocal</th>\n",
       "      <th>averageMonitoringEnvironmentAltitude</th>\n",
       "      <th>restingCaloriesFromActivity</th>\n",
       "      <th>avgWakingRespirationValue</th>\n",
       "      <th>highestRespirationValue</th>\n",
       "      <th>lowestRespirationValue</th>\n",
       "      <th>latestRespirationValue</th>\n",
       "      <th>latestRespirationTimeGMT</th>\n",
       "      <th>respirationAlgorithmVersion</th>\n",
       "    </tr>\n",
       "  </thead>\n",
       "  <tbody>\n",
       "    <tr>\n",
       "      <th>typeId</th>\n",
       "      <td>114846541</td>\n",
       "      <td>2757.0</td>\n",
       "      <td>660.0</td>\n",
       "      <td>2097.0</td>\n",
       "      <td>2757.0</td>\n",
       "      <td>None</td>\n",
       "      <td>None</td>\n",
       "      <td>2757.0</td>\n",
       "      <td>8251</td>\n",
       "      <td>None</td>\n",
       "      <td>...</td>\n",
       "      <td>2024-10-01T07:00:00.0</td>\n",
       "      <td>2024-10-01T08:00:00.0</td>\n",
       "      <td>None</td>\n",
       "      <td>97.0</td>\n",
       "      <td>13.0</td>\n",
       "      <td>18.0</td>\n",
       "      <td>11.0</td>\n",
       "      <td>14.0</td>\n",
       "      <td>2024-10-01T23:00:00.0</td>\n",
       "      <td>100</td>\n",
       "    </tr>\n",
       "    <tr>\n",
       "      <th>typeKey</th>\n",
       "      <td>114846541</td>\n",
       "      <td>2757.0</td>\n",
       "      <td>660.0</td>\n",
       "      <td>2097.0</td>\n",
       "      <td>2757.0</td>\n",
       "      <td>None</td>\n",
       "      <td>None</td>\n",
       "      <td>2757.0</td>\n",
       "      <td>8251</td>\n",
       "      <td>None</td>\n",
       "      <td>...</td>\n",
       "      <td>2024-10-01T07:00:00.0</td>\n",
       "      <td>2024-10-01T08:00:00.0</td>\n",
       "      <td>None</td>\n",
       "      <td>97.0</td>\n",
       "      <td>13.0</td>\n",
       "      <td>18.0</td>\n",
       "      <td>11.0</td>\n",
       "      <td>14.0</td>\n",
       "      <td>2024-10-01T23:00:00.0</td>\n",
       "      <td>100</td>\n",
       "    </tr>\n",
       "  </tbody>\n",
       "</table>\n",
       "<p>2 rows × 90 columns</p>\n",
       "</div>"
      ],
      "text/plain": [
       "         userProfileId  totalKilocalories  activeKilocalories  \\\n",
       "typeId       114846541             2757.0               660.0   \n",
       "typeKey      114846541             2757.0               660.0   \n",
       "\n",
       "         bmrKilocalories  wellnessKilocalories burnedKilocalories  \\\n",
       "typeId            2097.0                2757.0               None   \n",
       "typeKey           2097.0                2757.0               None   \n",
       "\n",
       "        consumedKilocalories  remainingKilocalories  totalSteps  \\\n",
       "typeId                  None                 2757.0        8251   \n",
       "typeKey                 None                 2757.0        8251   \n",
       "\n",
       "        netCalorieGoal  ...  latestSpo2ReadingTimeGmt  \\\n",
       "typeId            None  ...     2024-10-01T07:00:00.0   \n",
       "typeKey           None  ...     2024-10-01T07:00:00.0   \n",
       "\n",
       "         latestSpo2ReadingTimeLocal  averageMonitoringEnvironmentAltitude  \\\n",
       "typeId        2024-10-01T08:00:00.0                                  None   \n",
       "typeKey       2024-10-01T08:00:00.0                                  None   \n",
       "\n",
       "         restingCaloriesFromActivity  avgWakingRespirationValue  \\\n",
       "typeId                          97.0                       13.0   \n",
       "typeKey                         97.0                       13.0   \n",
       "\n",
       "        highestRespirationValue lowestRespirationValue latestRespirationValue  \\\n",
       "typeId                     18.0                   11.0                   14.0   \n",
       "typeKey                    18.0                   11.0                   14.0   \n",
       "\n",
       "         latestRespirationTimeGMT respirationAlgorithmVersion  \n",
       "typeId      2024-10-01T23:00:00.0                         100  \n",
       "typeKey     2024-10-01T23:00:00.0                         100  \n",
       "\n",
       "[2 rows x 90 columns]"
      ]
     },
     "execution_count": 37,
     "metadata": {},
     "output_type": "execute_result"
    }
   ],
   "source": [
    "df = pd.DataFrame(GARMIN.get_stats(DATE))\n",
    "df.head()"
   ]
  },
  {
   "cell_type": "code",
   "execution_count": 38,
   "metadata": {},
   "outputs": [
    {
     "data": {
      "text/html": [
       "<div>\n",
       "<style scoped>\n",
       "    .dataframe tbody tr th:only-of-type {\n",
       "        vertical-align: middle;\n",
       "    }\n",
       "\n",
       "    .dataframe tbody tr th {\n",
       "        vertical-align: top;\n",
       "    }\n",
       "\n",
       "    .dataframe thead th {\n",
       "        text-align: right;\n",
       "    }\n",
       "</style>\n",
       "<table border=\"1\" class=\"dataframe\">\n",
       "  <thead>\n",
       "    <tr style=\"text-align: right;\">\n",
       "      <th></th>\n",
       "      <th>userProfileId</th>\n",
       "      <th>totalKilocalories</th>\n",
       "      <th>activeKilocalories</th>\n",
       "      <th>bmrKilocalories</th>\n",
       "      <th>wellnessKilocalories</th>\n",
       "      <th>burnedKilocalories</th>\n",
       "      <th>consumedKilocalories</th>\n",
       "      <th>remainingKilocalories</th>\n",
       "      <th>totalSteps</th>\n",
       "      <th>netCalorieGoal</th>\n",
       "      <th>...</th>\n",
       "      <th>latestSpo2ReadingTimeGmt</th>\n",
       "      <th>latestSpo2ReadingTimeLocal</th>\n",
       "      <th>averageMonitoringEnvironmentAltitude</th>\n",
       "      <th>restingCaloriesFromActivity</th>\n",
       "      <th>avgWakingRespirationValue</th>\n",
       "      <th>highestRespirationValue</th>\n",
       "      <th>lowestRespirationValue</th>\n",
       "      <th>latestRespirationValue</th>\n",
       "      <th>latestRespirationTimeGMT</th>\n",
       "      <th>respirationAlgorithmVersion</th>\n",
       "    </tr>\n",
       "  </thead>\n",
       "  <tbody>\n",
       "    <tr>\n",
       "      <th>typeId</th>\n",
       "      <td>114846541</td>\n",
       "      <td>2757.0</td>\n",
       "      <td>660.0</td>\n",
       "      <td>2097.0</td>\n",
       "      <td>2757.0</td>\n",
       "      <td>None</td>\n",
       "      <td>None</td>\n",
       "      <td>2757.0</td>\n",
       "      <td>8251</td>\n",
       "      <td>None</td>\n",
       "      <td>...</td>\n",
       "      <td>2024-10-01T07:00:00.0</td>\n",
       "      <td>2024-10-01T08:00:00.0</td>\n",
       "      <td>None</td>\n",
       "      <td>97.0</td>\n",
       "      <td>13.0</td>\n",
       "      <td>18.0</td>\n",
       "      <td>11.0</td>\n",
       "      <td>14.0</td>\n",
       "      <td>2024-10-01T23:00:00.0</td>\n",
       "      <td>100</td>\n",
       "    </tr>\n",
       "    <tr>\n",
       "      <th>typeKey</th>\n",
       "      <td>114846541</td>\n",
       "      <td>2757.0</td>\n",
       "      <td>660.0</td>\n",
       "      <td>2097.0</td>\n",
       "      <td>2757.0</td>\n",
       "      <td>None</td>\n",
       "      <td>None</td>\n",
       "      <td>2757.0</td>\n",
       "      <td>8251</td>\n",
       "      <td>None</td>\n",
       "      <td>...</td>\n",
       "      <td>2024-10-01T07:00:00.0</td>\n",
       "      <td>2024-10-01T08:00:00.0</td>\n",
       "      <td>None</td>\n",
       "      <td>97.0</td>\n",
       "      <td>13.0</td>\n",
       "      <td>18.0</td>\n",
       "      <td>11.0</td>\n",
       "      <td>14.0</td>\n",
       "      <td>2024-10-01T23:00:00.0</td>\n",
       "      <td>100</td>\n",
       "    </tr>\n",
       "  </tbody>\n",
       "</table>\n",
       "<p>2 rows × 90 columns</p>\n",
       "</div>"
      ],
      "text/plain": [
       "         userProfileId  totalKilocalories  activeKilocalories  \\\n",
       "typeId       114846541             2757.0               660.0   \n",
       "typeKey      114846541             2757.0               660.0   \n",
       "\n",
       "         bmrKilocalories  wellnessKilocalories burnedKilocalories  \\\n",
       "typeId            2097.0                2757.0               None   \n",
       "typeKey           2097.0                2757.0               None   \n",
       "\n",
       "        consumedKilocalories  remainingKilocalories  totalSteps  \\\n",
       "typeId                  None                 2757.0        8251   \n",
       "typeKey                 None                 2757.0        8251   \n",
       "\n",
       "        netCalorieGoal  ...  latestSpo2ReadingTimeGmt  \\\n",
       "typeId            None  ...     2024-10-01T07:00:00.0   \n",
       "typeKey           None  ...     2024-10-01T07:00:00.0   \n",
       "\n",
       "         latestSpo2ReadingTimeLocal  averageMonitoringEnvironmentAltitude  \\\n",
       "typeId        2024-10-01T08:00:00.0                                  None   \n",
       "typeKey       2024-10-01T08:00:00.0                                  None   \n",
       "\n",
       "         restingCaloriesFromActivity  avgWakingRespirationValue  \\\n",
       "typeId                          97.0                       13.0   \n",
       "typeKey                         97.0                       13.0   \n",
       "\n",
       "        highestRespirationValue lowestRespirationValue latestRespirationValue  \\\n",
       "typeId                     18.0                   11.0                   14.0   \n",
       "typeKey                    18.0                   11.0                   14.0   \n",
       "\n",
       "         latestRespirationTimeGMT respirationAlgorithmVersion  \n",
       "typeId      2024-10-01T23:00:00.0                         100  \n",
       "typeKey     2024-10-01T23:00:00.0                         100  \n",
       "\n",
       "[2 rows x 90 columns]"
      ]
     },
     "execution_count": 38,
     "metadata": {},
     "output_type": "execute_result"
    }
   ],
   "source": [
    "summary = pd.DataFrame(GARMIN.get_user_summary(DATE))\n",
    "summary.head()"
   ]
  },
  {
   "cell_type": "code",
   "execution_count": 39,
   "metadata": {},
   "outputs": [
    {
     "ename": "GarthHTTPError",
     "evalue": "Error in request: 404 Client Error: Not Found for url: https://connectapi.garmin.com/wellness-service/wellness/bodyBattery/reports/daily?startDate=2024-10-01&endDate=2024-14-01",
     "output_type": "error",
     "traceback": [
      "\u001b[0;31m---------------------------------------------------------------------------\u001b[0m",
      "\u001b[0;31mHTTPError\u001b[0m                                 Traceback (most recent call last)",
      "File \u001b[0;32m/opt/anaconda3/envs/garmin/lib/python3.10/site-packages/garth/http.py:143\u001b[0m, in \u001b[0;36mClient.request\u001b[0;34m(self, method, subdomain, path, api, referrer, headers, **kwargs)\u001b[0m\n\u001b[1;32m    142\u001b[0m \u001b[38;5;28;01mtry\u001b[39;00m:\n\u001b[0;32m--> 143\u001b[0m     \u001b[38;5;28;43mself\u001b[39;49m\u001b[38;5;241;43m.\u001b[39;49m\u001b[43mlast_resp\u001b[49m\u001b[38;5;241;43m.\u001b[39;49m\u001b[43mraise_for_status\u001b[49m\u001b[43m(\u001b[49m\u001b[43m)\u001b[49m\n\u001b[1;32m    144\u001b[0m \u001b[38;5;28;01mexcept\u001b[39;00m HTTPError \u001b[38;5;28;01mas\u001b[39;00m e:\n",
      "File \u001b[0;32m/opt/anaconda3/envs/garmin/lib/python3.10/site-packages/requests/models.py:1024\u001b[0m, in \u001b[0;36mResponse.raise_for_status\u001b[0;34m(self)\u001b[0m\n\u001b[1;32m   1023\u001b[0m \u001b[38;5;28;01mif\u001b[39;00m http_error_msg:\n\u001b[0;32m-> 1024\u001b[0m     \u001b[38;5;28;01mraise\u001b[39;00m HTTPError(http_error_msg, response\u001b[38;5;241m=\u001b[39m\u001b[38;5;28mself\u001b[39m)\n",
      "\u001b[0;31mHTTPError\u001b[0m: 404 Client Error: Not Found for url: https://connectapi.garmin.com/wellness-service/wellness/bodyBattery/reports/daily?startDate=2024-10-01&endDate=2024-14-01",
      "\nDuring handling of the above exception, another exception occurred:\n",
      "\u001b[0;31mGarthHTTPError\u001b[0m                            Traceback (most recent call last)",
      "Cell \u001b[0;32mIn[39], line 1\u001b[0m\n\u001b[0;32m----> 1\u001b[0m battery \u001b[38;5;241m=\u001b[39m pd\u001b[38;5;241m.\u001b[39mDataFrame(\u001b[43mGARMIN\u001b[49m\u001b[38;5;241;43m.\u001b[39;49m\u001b[43mget_body_battery\u001b[49m\u001b[43m(\u001b[49m\u001b[43mstartdate\u001b[49m\u001b[38;5;241;43m=\u001b[39;49m\u001b[43mDATE\u001b[49m\u001b[43m,\u001b[49m\u001b[43menddate\u001b[49m\u001b[38;5;241;43m=\u001b[39;49m\u001b[43mDATE2\u001b[49m\u001b[43m)\u001b[49m)\n\u001b[1;32m      2\u001b[0m battery\u001b[38;5;241m.\u001b[39mhead()\n",
      "File \u001b[0;32m/opt/anaconda3/envs/garmin/lib/python3.10/site-packages/garminconnect/__init__.py:507\u001b[0m, in \u001b[0;36mGarmin.get_body_battery\u001b[0;34m(self, startdate, enddate)\u001b[0m\n\u001b[1;32m    504\u001b[0m params \u001b[38;5;241m=\u001b[39m {\u001b[38;5;124m\"\u001b[39m\u001b[38;5;124mstartDate\u001b[39m\u001b[38;5;124m\"\u001b[39m: \u001b[38;5;28mstr\u001b[39m(startdate), \u001b[38;5;124m\"\u001b[39m\u001b[38;5;124mendDate\u001b[39m\u001b[38;5;124m\"\u001b[39m: \u001b[38;5;28mstr\u001b[39m(enddate)}\n\u001b[1;32m    505\u001b[0m logger\u001b[38;5;241m.\u001b[39mdebug(\u001b[38;5;124m\"\u001b[39m\u001b[38;5;124mRequesting body battery data\u001b[39m\u001b[38;5;124m\"\u001b[39m)\n\u001b[0;32m--> 507\u001b[0m \u001b[38;5;28;01mreturn\u001b[39;00m \u001b[38;5;28;43mself\u001b[39;49m\u001b[38;5;241;43m.\u001b[39;49m\u001b[43mconnectapi\u001b[49m\u001b[43m(\u001b[49m\u001b[43murl\u001b[49m\u001b[43m,\u001b[49m\u001b[43m \u001b[49m\u001b[43mparams\u001b[49m\u001b[38;5;241;43m=\u001b[39;49m\u001b[43mparams\u001b[49m\u001b[43m)\u001b[49m\n",
      "File \u001b[0;32m/opt/anaconda3/envs/garmin/lib/python3.10/site-packages/garminconnect/__init__.py:220\u001b[0m, in \u001b[0;36mGarmin.connectapi\u001b[0;34m(self, path, **kwargs)\u001b[0m\n\u001b[1;32m    219\u001b[0m \u001b[38;5;28;01mdef\u001b[39;00m\u001b[38;5;250m \u001b[39m\u001b[38;5;21mconnectapi\u001b[39m(\u001b[38;5;28mself\u001b[39m, path, \u001b[38;5;241m*\u001b[39m\u001b[38;5;241m*\u001b[39mkwargs):\n\u001b[0;32m--> 220\u001b[0m     \u001b[38;5;28;01mreturn\u001b[39;00m \u001b[38;5;28;43mself\u001b[39;49m\u001b[38;5;241;43m.\u001b[39;49m\u001b[43mgarth\u001b[49m\u001b[38;5;241;43m.\u001b[39;49m\u001b[43mconnectapi\u001b[49m\u001b[43m(\u001b[49m\u001b[43mpath\u001b[49m\u001b[43m,\u001b[49m\u001b[43m \u001b[49m\u001b[38;5;241;43m*\u001b[39;49m\u001b[38;5;241;43m*\u001b[39;49m\u001b[43mkwargs\u001b[49m\u001b[43m)\u001b[49m\n",
      "File \u001b[0;32m/opt/anaconda3/envs/garmin/lib/python3.10/site-packages/garth/http.py:177\u001b[0m, in \u001b[0;36mClient.connectapi\u001b[0;34m(self, path, method, **kwargs)\u001b[0m\n\u001b[1;32m    174\u001b[0m \u001b[38;5;28;01mdef\u001b[39;00m\u001b[38;5;250m \u001b[39m\u001b[38;5;21mconnectapi\u001b[39m(\n\u001b[1;32m    175\u001b[0m     \u001b[38;5;28mself\u001b[39m, path: \u001b[38;5;28mstr\u001b[39m, method\u001b[38;5;241m=\u001b[39m\u001b[38;5;124m\"\u001b[39m\u001b[38;5;124mGET\u001b[39m\u001b[38;5;124m\"\u001b[39m, \u001b[38;5;241m*\u001b[39m\u001b[38;5;241m*\u001b[39mkwargs\n\u001b[1;32m    176\u001b[0m ) \u001b[38;5;241m-\u001b[39m\u001b[38;5;241m>\u001b[39m Dict[\u001b[38;5;28mstr\u001b[39m, Any] \u001b[38;5;241m|\u001b[39m \u001b[38;5;28;01mNone\u001b[39;00m:\n\u001b[0;32m--> 177\u001b[0m     resp \u001b[38;5;241m=\u001b[39m \u001b[38;5;28;43mself\u001b[39;49m\u001b[38;5;241;43m.\u001b[39;49m\u001b[43mrequest\u001b[49m\u001b[43m(\u001b[49m\u001b[43mmethod\u001b[49m\u001b[43m,\u001b[49m\u001b[43m \u001b[49m\u001b[38;5;124;43m\"\u001b[39;49m\u001b[38;5;124;43mconnectapi\u001b[39;49m\u001b[38;5;124;43m\"\u001b[39;49m\u001b[43m,\u001b[49m\u001b[43m \u001b[49m\u001b[43mpath\u001b[49m\u001b[43m,\u001b[49m\u001b[43m \u001b[49m\u001b[43mapi\u001b[49m\u001b[38;5;241;43m=\u001b[39;49m\u001b[38;5;28;43;01mTrue\u001b[39;49;00m\u001b[43m,\u001b[49m\u001b[43m \u001b[49m\u001b[38;5;241;43m*\u001b[39;49m\u001b[38;5;241;43m*\u001b[39;49m\u001b[43mkwargs\u001b[49m\u001b[43m)\u001b[49m\n\u001b[1;32m    178\u001b[0m     \u001b[38;5;28;01mif\u001b[39;00m resp\u001b[38;5;241m.\u001b[39mstatus_code \u001b[38;5;241m==\u001b[39m \u001b[38;5;241m204\u001b[39m:\n\u001b[1;32m    179\u001b[0m         \u001b[38;5;28;01mreturn\u001b[39;00m \u001b[38;5;28;01mNone\u001b[39;00m\n",
      "File \u001b[0;32m/opt/anaconda3/envs/garmin/lib/python3.10/site-packages/garth/http.py:145\u001b[0m, in \u001b[0;36mClient.request\u001b[0;34m(self, method, subdomain, path, api, referrer, headers, **kwargs)\u001b[0m\n\u001b[1;32m    143\u001b[0m     \u001b[38;5;28mself\u001b[39m\u001b[38;5;241m.\u001b[39mlast_resp\u001b[38;5;241m.\u001b[39mraise_for_status()\n\u001b[1;32m    144\u001b[0m \u001b[38;5;28;01mexcept\u001b[39;00m HTTPError \u001b[38;5;28;01mas\u001b[39;00m e:\n\u001b[0;32m--> 145\u001b[0m     \u001b[38;5;28;01mraise\u001b[39;00m GarthHTTPError(\n\u001b[1;32m    146\u001b[0m         msg\u001b[38;5;241m=\u001b[39m\u001b[38;5;124m\"\u001b[39m\u001b[38;5;124mError in request\u001b[39m\u001b[38;5;124m\"\u001b[39m,\n\u001b[1;32m    147\u001b[0m         error\u001b[38;5;241m=\u001b[39me,\n\u001b[1;32m    148\u001b[0m     )\n\u001b[1;32m    149\u001b[0m \u001b[38;5;28;01mreturn\u001b[39;00m \u001b[38;5;28mself\u001b[39m\u001b[38;5;241m.\u001b[39mlast_resp\n",
      "\u001b[0;31mGarthHTTPError\u001b[0m: Error in request: 404 Client Error: Not Found for url: https://connectapi.garmin.com/wellness-service/wellness/bodyBattery/reports/daily?startDate=2024-10-01&endDate=2024-14-01"
     ]
    }
   ],
   "source": [
    "battery = pd.DataFrame(GARMIN.get_body_battery(startdate=DATE,enddate=DATE2))\n",
    "battery.head()"
   ]
  },
  {
   "cell_type": "code",
   "execution_count": 15,
   "metadata": {},
   "outputs": [
    {
     "data": {
      "text/plain": [
       "[[1728514980000, 27],\n",
       " [1728540000000, 86],\n",
       " [1728543240000, 88],\n",
       " [1728566280000, 63],\n",
       " [1728567000000, 62],\n",
       " [1728582120000, 45]]"
      ]
     },
     "execution_count": 15,
     "metadata": {},
     "output_type": "execute_result"
    }
   ],
   "source": [
    "battery['bodyBatteryValuesArray'][0]"
   ]
  },
  {
   "cell_type": "code",
   "execution_count": 20,
   "metadata": {},
   "outputs": [
    {
     "name": "stdout",
     "output_type": "stream",
     "text": [
      "None\n"
     ]
    }
   ],
   "source": [
    "endurance = GARMIN.get_endurance_score(startdate='2025-01-17')\n",
    "print(endurance)"
   ]
  }
 ],
 "metadata": {
  "kernelspec": {
   "display_name": "garmin",
   "language": "python",
   "name": "python3"
  },
  "language_info": {
   "codemirror_mode": {
    "name": "ipython",
    "version": 3
   },
   "file_extension": ".py",
   "mimetype": "text/x-python",
   "name": "python",
   "nbconvert_exporter": "python",
   "pygments_lexer": "ipython3",
   "version": "3.10.16"
  }
 },
 "nbformat": 4,
 "nbformat_minor": 2
}
